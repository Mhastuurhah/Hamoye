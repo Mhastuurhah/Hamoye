{
  "nbformat": 4,
  "nbformat_minor": 0,
  "metadata": {
    "colab": {
      "name": "Hamoye3.ipynb",
      "provenance": []
    },
    "kernelspec": {
      "name": "python3",
      "display_name": "Python 3"
    },
    "language_info": {
      "name": "python"
    }
  },
  "cells": [
    {
      "cell_type": "code",
      "metadata": {
        "id": "b-r2_4RnRepp"
      },
      "source": [
        "from sklearn import metrics\n",
        "import imblearn\n",
        "from imblearn.over_sampling import SMOTE\n",
        "import lightgbm as lgbm\n",
        "import xgboost as xgb\n",
        "from sklearn.ensemble import ExtraTreesClassifier\n",
        "import pandas as pd\n",
        "import numpy as np\n",
        "import matplotlib.pyplot as plt\n",
        "import seaborn as sns"
      ],
      "execution_count": 4,
      "outputs": []
    },
    {
      "cell_type": "code",
      "metadata": {
        "id": "2aaTAY4-kq4u"
      },
      "source": [
        "data = pd.read_csv(\"/Data_for_UCI_named.csv\")"
      ],
      "execution_count": 5,
      "outputs": []
    },
    {
      "cell_type": "code",
      "metadata": {
        "colab": {
          "base_uri": "https://localhost:8080/",
          "height": 206
        },
        "id": "mHjHzR17lQ89",
        "outputId": "8d42134e-6022-4f36-8afc-d55169ff8ea1"
      },
      "source": [
        "data.head()"
      ],
      "execution_count": 6,
      "outputs": [
        {
          "output_type": "execute_result",
          "data": {
            "text/html": [
              "<div>\n",
              "<style scoped>\n",
              "    .dataframe tbody tr th:only-of-type {\n",
              "        vertical-align: middle;\n",
              "    }\n",
              "\n",
              "    .dataframe tbody tr th {\n",
              "        vertical-align: top;\n",
              "    }\n",
              "\n",
              "    .dataframe thead th {\n",
              "        text-align: right;\n",
              "    }\n",
              "</style>\n",
              "<table border=\"1\" class=\"dataframe\">\n",
              "  <thead>\n",
              "    <tr style=\"text-align: right;\">\n",
              "      <th></th>\n",
              "      <th>tau1</th>\n",
              "      <th>tau2</th>\n",
              "      <th>tau3</th>\n",
              "      <th>tau4</th>\n",
              "      <th>p1</th>\n",
              "      <th>p2</th>\n",
              "      <th>p3</th>\n",
              "      <th>p4</th>\n",
              "      <th>g1</th>\n",
              "      <th>g2</th>\n",
              "      <th>g3</th>\n",
              "      <th>g4</th>\n",
              "      <th>stab</th>\n",
              "      <th>stabf</th>\n",
              "    </tr>\n",
              "  </thead>\n",
              "  <tbody>\n",
              "    <tr>\n",
              "      <th>0</th>\n",
              "      <td>2.959060</td>\n",
              "      <td>3.079885</td>\n",
              "      <td>8.381025</td>\n",
              "      <td>9.780754</td>\n",
              "      <td>3.763085</td>\n",
              "      <td>-0.782604</td>\n",
              "      <td>-1.257395</td>\n",
              "      <td>-1.723086</td>\n",
              "      <td>0.650456</td>\n",
              "      <td>0.859578</td>\n",
              "      <td>0.887445</td>\n",
              "      <td>0.958034</td>\n",
              "      <td>0.055347</td>\n",
              "      <td>unstable</td>\n",
              "    </tr>\n",
              "    <tr>\n",
              "      <th>1</th>\n",
              "      <td>9.304097</td>\n",
              "      <td>4.902524</td>\n",
              "      <td>3.047541</td>\n",
              "      <td>1.369357</td>\n",
              "      <td>5.067812</td>\n",
              "      <td>-1.940058</td>\n",
              "      <td>-1.872742</td>\n",
              "      <td>-1.255012</td>\n",
              "      <td>0.413441</td>\n",
              "      <td>0.862414</td>\n",
              "      <td>0.562139</td>\n",
              "      <td>0.781760</td>\n",
              "      <td>-0.005957</td>\n",
              "      <td>stable</td>\n",
              "    </tr>\n",
              "    <tr>\n",
              "      <th>2</th>\n",
              "      <td>8.971707</td>\n",
              "      <td>8.848428</td>\n",
              "      <td>3.046479</td>\n",
              "      <td>1.214518</td>\n",
              "      <td>3.405158</td>\n",
              "      <td>-1.207456</td>\n",
              "      <td>-1.277210</td>\n",
              "      <td>-0.920492</td>\n",
              "      <td>0.163041</td>\n",
              "      <td>0.766689</td>\n",
              "      <td>0.839444</td>\n",
              "      <td>0.109853</td>\n",
              "      <td>0.003471</td>\n",
              "      <td>unstable</td>\n",
              "    </tr>\n",
              "    <tr>\n",
              "      <th>3</th>\n",
              "      <td>0.716415</td>\n",
              "      <td>7.669600</td>\n",
              "      <td>4.486641</td>\n",
              "      <td>2.340563</td>\n",
              "      <td>3.963791</td>\n",
              "      <td>-1.027473</td>\n",
              "      <td>-1.938944</td>\n",
              "      <td>-0.997374</td>\n",
              "      <td>0.446209</td>\n",
              "      <td>0.976744</td>\n",
              "      <td>0.929381</td>\n",
              "      <td>0.362718</td>\n",
              "      <td>0.028871</td>\n",
              "      <td>unstable</td>\n",
              "    </tr>\n",
              "    <tr>\n",
              "      <th>4</th>\n",
              "      <td>3.134112</td>\n",
              "      <td>7.608772</td>\n",
              "      <td>4.943759</td>\n",
              "      <td>9.857573</td>\n",
              "      <td>3.525811</td>\n",
              "      <td>-1.125531</td>\n",
              "      <td>-1.845975</td>\n",
              "      <td>-0.554305</td>\n",
              "      <td>0.797110</td>\n",
              "      <td>0.455450</td>\n",
              "      <td>0.656947</td>\n",
              "      <td>0.820923</td>\n",
              "      <td>0.049860</td>\n",
              "      <td>unstable</td>\n",
              "    </tr>\n",
              "  </tbody>\n",
              "</table>\n",
              "</div>"
            ],
            "text/plain": [
              "       tau1      tau2      tau3  ...        g4      stab     stabf\n",
              "0  2.959060  3.079885  8.381025  ...  0.958034  0.055347  unstable\n",
              "1  9.304097  4.902524  3.047541  ...  0.781760 -0.005957    stable\n",
              "2  8.971707  8.848428  3.046479  ...  0.109853  0.003471  unstable\n",
              "3  0.716415  7.669600  4.486641  ...  0.362718  0.028871  unstable\n",
              "4  3.134112  7.608772  4.943759  ...  0.820923  0.049860  unstable\n",
              "\n",
              "[5 rows x 14 columns]"
            ]
          },
          "metadata": {},
          "execution_count": 6
        }
      ]
    },
    {
      "cell_type": "code",
      "metadata": {
        "id": "OihlIFrGrYNa"
      },
      "source": [
        "from sklearn.ensemble import RandomForestClassifier\n",
        "\n",
        "model = RandomForestClassifier(n_estimators=100, random_state=0)"
      ],
      "execution_count": 7,
      "outputs": []
    },
    {
      "cell_type": "code",
      "metadata": {
        "id": "ipHg7g9TsJbE"
      },
      "source": [
        "#encode categorical variable\n",
        "from sklearn.preprocessing import LabelEncoder\n",
        "encoder = LabelEncoder()\n",
        "data['stabf'] = encoder.fit_transform(data['stabf'])"
      ],
      "execution_count": 8,
      "outputs": []
    },
    {
      "cell_type": "code",
      "metadata": {
        "id": "_2fsxBWGsWXR"
      },
      "source": [
        "X = data.drop(columns='stabf')\n",
        "y = data['stabf']\n",
        "\n",
        "#split the data into training and testing sets\n",
        "from sklearn.model_selection import train_test_split\n",
        "x_train, x_test, y_train, y_test = train_test_split(X, y, test_size=0.3, random_state=0)"
      ],
      "execution_count": 10,
      "outputs": []
    },
    {
      "cell_type": "code",
      "metadata": {
        "id": "9-BLOooRsKwI"
      },
      "source": [
        "from sklearn import metrics\n",
        "import imblearn\n",
        "from imblearn.over_sampling import SMOTE\n",
        "smote = SMOTE(random_state=1)\n",
        "x_train, y_train = smote.fit_sample(x_train, y_train)"
      ],
      "execution_count": 24,
      "outputs": []
    },
    {
      "cell_type": "markdown",
      "metadata": {
        "id": "0Cplo6wMtoP1"
      },
      "source": [
        ""
      ]
    },
    {
      "cell_type": "code",
      "metadata": {
        "colab": {
          "base_uri": "https://localhost:8080/"
        },
        "id": "w66LVfXZsRIB",
        "outputId": "6b37cd7b-9550-4e89-964c-b9ea0edd65a2"
      },
      "source": [
        "model.fit(x_train, y_train)"
      ],
      "execution_count": 19,
      "outputs": [
        {
          "output_type": "execute_result",
          "data": {
            "text/plain": [
              "RandomForestClassifier(bootstrap=True, ccp_alpha=0.0, class_weight=None,\n",
              "                       criterion='gini', max_depth=None, max_features='auto',\n",
              "                       max_leaf_nodes=None, max_samples=None,\n",
              "                       min_impurity_decrease=0.0, min_impurity_split=None,\n",
              "                       min_samples_leaf=1, min_samples_split=2,\n",
              "                       min_weight_fraction_leaf=0.0, n_estimators=100,\n",
              "                       n_jobs=None, oob_score=False, random_state=0, verbose=0,\n",
              "                       warm_start=False)"
            ]
          },
          "metadata": {},
          "execution_count": 19
        }
      ]
    },
    {
      "cell_type": "code",
      "metadata": {
        "colab": {
          "base_uri": "https://localhost:8080/"
        },
        "id": "R8dINjoKsdXg",
        "outputId": "99bd2d34-19fe-408d-f317-00884f7e2b0c"
      },
      "source": [
        "pred = model.predict(x_test)\n",
        "metrics.accuracy_score(y_test, pred)"
      ],
      "execution_count": 20,
      "outputs": [
        {
          "output_type": "execute_result",
          "data": {
            "text/plain": [
              "0.9996666666666667"
            ]
          },
          "metadata": {},
          "execution_count": 20
        }
      ]
    },
    {
      "cell_type": "code",
      "metadata": {
        "id": "7h3nyi5jtGaF"
      },
      "source": [
        "# xgb model\n",
        "model1 = xgb.XGBClassifier(random_state=0)"
      ],
      "execution_count": 21,
      "outputs": []
    },
    {
      "cell_type": "code",
      "metadata": {
        "id": "xmykaPOotGbs",
        "outputId": "99a8e6c7-9da2-484f-c78b-128bdd084d94",
        "colab": {
          "base_uri": "https://localhost:8080/"
        }
      },
      "source": [
        "model1.fit(x_train, y_train)\n"
      ],
      "execution_count": 22,
      "outputs": [
        {
          "output_type": "execute_result",
          "data": {
            "text/plain": [
              "XGBClassifier(base_score=0.5, booster='gbtree', colsample_bylevel=1,\n",
              "              colsample_bynode=1, colsample_bytree=1, gamma=0,\n",
              "              learning_rate=0.1, max_delta_step=0, max_depth=3,\n",
              "              min_child_weight=1, missing=None, n_estimators=100, n_jobs=1,\n",
              "              nthread=None, objective='binary:logistic', random_state=0,\n",
              "              reg_alpha=0, reg_lambda=1, scale_pos_weight=1, seed=None,\n",
              "              silent=None, subsample=1, verbosity=1)"
            ]
          },
          "metadata": {},
          "execution_count": 22
        }
      ]
    },
    {
      "cell_type": "code",
      "metadata": {
        "id": "Prb5U1h7tGfp",
        "outputId": "331844ab-4bdc-4817-f766-d9296ed2bd4a",
        "colab": {
          "base_uri": "https://localhost:8080/"
        }
      },
      "source": [
        "pred = model1.predict(x_test)\n",
        "metrics.accuracy_score(y_test, pred)"
      ],
      "execution_count": 28,
      "outputs": [
        {
          "output_type": "execute_result",
          "data": {
            "text/plain": [
              "0.9996666666666667"
            ]
          },
          "metadata": {},
          "execution_count": 28
        }
      ]
    },
    {
      "cell_type": "code",
      "metadata": {
        "id": "aTRSvPNNuguE",
        "outputId": "bef6cdc3-5973-4825-806a-2033f27c85b0",
        "colab": {
          "base_uri": "https://localhost:8080/"
        }
      },
      "source": [
        "#lgbm\n",
        "model2 = lgbm.LGBMClassifier(random_state=0)\n",
        "model2.fit(x_train, y_train)\n",
        "pred = model2.predict(x_test)\n",
        "metrics.accuracy_score(y_test, pred)"
      ],
      "execution_count": 29,
      "outputs": [
        {
          "output_type": "execute_result",
          "data": {
            "text/plain": [
              "1.0"
            ]
          },
          "metadata": {},
          "execution_count": 29
        }
      ]
    },
    {
      "cell_type": "code",
      "metadata": {
        "id": "ZWAX-VOougvo",
        "outputId": "67c7ae2f-74b5-4a5c-de39-c5ef1e56f542",
        "colab": {
          "base_uri": "https://localhost:8080/",
          "height": 488
        }
      },
      "source": [
        "data.corr()"
      ],
      "execution_count": 30,
      "outputs": [
        {
          "output_type": "execute_result",
          "data": {
            "text/html": [
              "<div>\n",
              "<style scoped>\n",
              "    .dataframe tbody tr th:only-of-type {\n",
              "        vertical-align: middle;\n",
              "    }\n",
              "\n",
              "    .dataframe tbody tr th {\n",
              "        vertical-align: top;\n",
              "    }\n",
              "\n",
              "    .dataframe thead th {\n",
              "        text-align: right;\n",
              "    }\n",
              "</style>\n",
              "<table border=\"1\" class=\"dataframe\">\n",
              "  <thead>\n",
              "    <tr style=\"text-align: right;\">\n",
              "      <th></th>\n",
              "      <th>tau1</th>\n",
              "      <th>tau2</th>\n",
              "      <th>tau3</th>\n",
              "      <th>tau4</th>\n",
              "      <th>p1</th>\n",
              "      <th>p2</th>\n",
              "      <th>p3</th>\n",
              "      <th>p4</th>\n",
              "      <th>g1</th>\n",
              "      <th>g2</th>\n",
              "      <th>g3</th>\n",
              "      <th>g4</th>\n",
              "      <th>stab</th>\n",
              "      <th>stabf</th>\n",
              "    </tr>\n",
              "  </thead>\n",
              "  <tbody>\n",
              "    <tr>\n",
              "      <th>tau1</th>\n",
              "      <td>1.000000</td>\n",
              "      <td>0.015586</td>\n",
              "      <td>-0.005970</td>\n",
              "      <td>-0.017265</td>\n",
              "      <td>0.027183</td>\n",
              "      <td>-0.015485</td>\n",
              "      <td>-0.015924</td>\n",
              "      <td>-0.015807</td>\n",
              "      <td>0.010521</td>\n",
              "      <td>0.015350</td>\n",
              "      <td>-0.001279</td>\n",
              "      <td>0.005494</td>\n",
              "      <td>0.275761</td>\n",
              "      <td>0.234898</td>\n",
              "    </tr>\n",
              "    <tr>\n",
              "      <th>tau2</th>\n",
              "      <td>0.015586</td>\n",
              "      <td>1.000000</td>\n",
              "      <td>0.014273</td>\n",
              "      <td>-0.001965</td>\n",
              "      <td>-0.004769</td>\n",
              "      <td>0.006573</td>\n",
              "      <td>0.007673</td>\n",
              "      <td>-0.005963</td>\n",
              "      <td>-0.001742</td>\n",
              "      <td>0.015383</td>\n",
              "      <td>0.016508</td>\n",
              "      <td>-0.011764</td>\n",
              "      <td>0.290975</td>\n",
              "      <td>0.246280</td>\n",
              "    </tr>\n",
              "    <tr>\n",
              "      <th>tau3</th>\n",
              "      <td>-0.005970</td>\n",
              "      <td>0.014273</td>\n",
              "      <td>1.000000</td>\n",
              "      <td>0.004354</td>\n",
              "      <td>0.016953</td>\n",
              "      <td>-0.003134</td>\n",
              "      <td>-0.008780</td>\n",
              "      <td>-0.017531</td>\n",
              "      <td>-0.011605</td>\n",
              "      <td>0.007671</td>\n",
              "      <td>0.014702</td>\n",
              "      <td>-0.011497</td>\n",
              "      <td>0.280700</td>\n",
              "      <td>0.237492</td>\n",
              "    </tr>\n",
              "    <tr>\n",
              "      <th>tau4</th>\n",
              "      <td>-0.017265</td>\n",
              "      <td>-0.001965</td>\n",
              "      <td>0.004354</td>\n",
              "      <td>1.000000</td>\n",
              "      <td>-0.003173</td>\n",
              "      <td>0.010553</td>\n",
              "      <td>0.006169</td>\n",
              "      <td>-0.011211</td>\n",
              "      <td>-0.004149</td>\n",
              "      <td>0.008431</td>\n",
              "      <td>0.003260</td>\n",
              "      <td>-0.000491</td>\n",
              "      <td>0.278576</td>\n",
              "      <td>0.239375</td>\n",
              "    </tr>\n",
              "    <tr>\n",
              "      <th>p1</th>\n",
              "      <td>0.027183</td>\n",
              "      <td>-0.004769</td>\n",
              "      <td>0.016953</td>\n",
              "      <td>-0.003173</td>\n",
              "      <td>1.000000</td>\n",
              "      <td>-0.573157</td>\n",
              "      <td>-0.584554</td>\n",
              "      <td>-0.579239</td>\n",
              "      <td>0.000721</td>\n",
              "      <td>0.015405</td>\n",
              "      <td>0.001069</td>\n",
              "      <td>-0.015451</td>\n",
              "      <td>0.010278</td>\n",
              "      <td>0.009938</td>\n",
              "    </tr>\n",
              "    <tr>\n",
              "      <th>p2</th>\n",
              "      <td>-0.015485</td>\n",
              "      <td>0.006573</td>\n",
              "      <td>-0.003134</td>\n",
              "      <td>0.010553</td>\n",
              "      <td>-0.573157</td>\n",
              "      <td>1.000000</td>\n",
              "      <td>0.002388</td>\n",
              "      <td>-0.006844</td>\n",
              "      <td>0.015603</td>\n",
              "      <td>-0.018032</td>\n",
              "      <td>0.007555</td>\n",
              "      <td>0.019817</td>\n",
              "      <td>0.006255</td>\n",
              "      <td>0.006173</td>\n",
              "    </tr>\n",
              "    <tr>\n",
              "      <th>p3</th>\n",
              "      <td>-0.015924</td>\n",
              "      <td>0.007673</td>\n",
              "      <td>-0.008780</td>\n",
              "      <td>0.006169</td>\n",
              "      <td>-0.584554</td>\n",
              "      <td>0.002388</td>\n",
              "      <td>1.000000</td>\n",
              "      <td>0.012953</td>\n",
              "      <td>-0.003219</td>\n",
              "      <td>-0.011575</td>\n",
              "      <td>-0.005897</td>\n",
              "      <td>-0.010485</td>\n",
              "      <td>-0.003321</td>\n",
              "      <td>-0.000649</td>\n",
              "    </tr>\n",
              "    <tr>\n",
              "      <th>p4</th>\n",
              "      <td>-0.015807</td>\n",
              "      <td>-0.005963</td>\n",
              "      <td>-0.017531</td>\n",
              "      <td>-0.011211</td>\n",
              "      <td>-0.579239</td>\n",
              "      <td>-0.006844</td>\n",
              "      <td>0.012953</td>\n",
              "      <td>1.000000</td>\n",
              "      <td>-0.013636</td>\n",
              "      <td>0.002850</td>\n",
              "      <td>-0.003515</td>\n",
              "      <td>0.017505</td>\n",
              "      <td>-0.020786</td>\n",
              "      <td>-0.022785</td>\n",
              "    </tr>\n",
              "    <tr>\n",
              "      <th>g1</th>\n",
              "      <td>0.010521</td>\n",
              "      <td>-0.001742</td>\n",
              "      <td>-0.011605</td>\n",
              "      <td>-0.004149</td>\n",
              "      <td>0.000721</td>\n",
              "      <td>0.015603</td>\n",
              "      <td>-0.003219</td>\n",
              "      <td>-0.013636</td>\n",
              "      <td>1.000000</td>\n",
              "      <td>0.007559</td>\n",
              "      <td>-0.005836</td>\n",
              "      <td>0.012431</td>\n",
              "      <td>0.282774</td>\n",
              "      <td>0.197664</td>\n",
              "    </tr>\n",
              "    <tr>\n",
              "      <th>g2</th>\n",
              "      <td>0.015350</td>\n",
              "      <td>0.015383</td>\n",
              "      <td>0.007671</td>\n",
              "      <td>0.008431</td>\n",
              "      <td>0.015405</td>\n",
              "      <td>-0.018032</td>\n",
              "      <td>-0.011575</td>\n",
              "      <td>0.002850</td>\n",
              "      <td>0.007559</td>\n",
              "      <td>1.000000</td>\n",
              "      <td>-0.012809</td>\n",
              "      <td>-0.014909</td>\n",
              "      <td>0.293601</td>\n",
              "      <td>0.217341</td>\n",
              "    </tr>\n",
              "    <tr>\n",
              "      <th>g3</th>\n",
              "      <td>-0.001279</td>\n",
              "      <td>0.016508</td>\n",
              "      <td>0.014702</td>\n",
              "      <td>0.003260</td>\n",
              "      <td>0.001069</td>\n",
              "      <td>0.007555</td>\n",
              "      <td>-0.005897</td>\n",
              "      <td>-0.003515</td>\n",
              "      <td>-0.005836</td>\n",
              "      <td>-0.012809</td>\n",
              "      <td>1.000000</td>\n",
              "      <td>0.006900</td>\n",
              "      <td>0.308235</td>\n",
              "      <td>0.231774</td>\n",
              "    </tr>\n",
              "    <tr>\n",
              "      <th>g4</th>\n",
              "      <td>0.005494</td>\n",
              "      <td>-0.011764</td>\n",
              "      <td>-0.011497</td>\n",
              "      <td>-0.000491</td>\n",
              "      <td>-0.015451</td>\n",
              "      <td>0.019817</td>\n",
              "      <td>-0.010485</td>\n",
              "      <td>0.017505</td>\n",
              "      <td>0.012431</td>\n",
              "      <td>-0.014909</td>\n",
              "      <td>0.006900</td>\n",
              "      <td>1.000000</td>\n",
              "      <td>0.279214</td>\n",
              "      <td>0.204931</td>\n",
              "    </tr>\n",
              "    <tr>\n",
              "      <th>stab</th>\n",
              "      <td>0.275761</td>\n",
              "      <td>0.290975</td>\n",
              "      <td>0.280700</td>\n",
              "      <td>0.278576</td>\n",
              "      <td>0.010278</td>\n",
              "      <td>0.006255</td>\n",
              "      <td>-0.003321</td>\n",
              "      <td>-0.020786</td>\n",
              "      <td>0.282774</td>\n",
              "      <td>0.293601</td>\n",
              "      <td>0.308235</td>\n",
              "      <td>0.279214</td>\n",
              "      <td>1.000000</td>\n",
              "      <td>0.826959</td>\n",
              "    </tr>\n",
              "    <tr>\n",
              "      <th>stabf</th>\n",
              "      <td>0.234898</td>\n",
              "      <td>0.246280</td>\n",
              "      <td>0.237492</td>\n",
              "      <td>0.239375</td>\n",
              "      <td>0.009938</td>\n",
              "      <td>0.006173</td>\n",
              "      <td>-0.000649</td>\n",
              "      <td>-0.022785</td>\n",
              "      <td>0.197664</td>\n",
              "      <td>0.217341</td>\n",
              "      <td>0.231774</td>\n",
              "      <td>0.204931</td>\n",
              "      <td>0.826959</td>\n",
              "      <td>1.000000</td>\n",
              "    </tr>\n",
              "  </tbody>\n",
              "</table>\n",
              "</div>"
            ],
            "text/plain": [
              "           tau1      tau2      tau3  ...        g4      stab     stabf\n",
              "tau1   1.000000  0.015586 -0.005970  ...  0.005494  0.275761  0.234898\n",
              "tau2   0.015586  1.000000  0.014273  ... -0.011764  0.290975  0.246280\n",
              "tau3  -0.005970  0.014273  1.000000  ... -0.011497  0.280700  0.237492\n",
              "tau4  -0.017265 -0.001965  0.004354  ... -0.000491  0.278576  0.239375\n",
              "p1     0.027183 -0.004769  0.016953  ... -0.015451  0.010278  0.009938\n",
              "p2    -0.015485  0.006573 -0.003134  ...  0.019817  0.006255  0.006173\n",
              "p3    -0.015924  0.007673 -0.008780  ... -0.010485 -0.003321 -0.000649\n",
              "p4    -0.015807 -0.005963 -0.017531  ...  0.017505 -0.020786 -0.022785\n",
              "g1     0.010521 -0.001742 -0.011605  ...  0.012431  0.282774  0.197664\n",
              "g2     0.015350  0.015383  0.007671  ... -0.014909  0.293601  0.217341\n",
              "g3    -0.001279  0.016508  0.014702  ...  0.006900  0.308235  0.231774\n",
              "g4     0.005494 -0.011764 -0.011497  ...  1.000000  0.279214  0.204931\n",
              "stab   0.275761  0.290975  0.280700  ...  0.279214  1.000000  0.826959\n",
              "stabf  0.234898  0.246280  0.237492  ...  0.204931  0.826959  1.000000\n",
              "\n",
              "[14 rows x 14 columns]"
            ]
          },
          "metadata": {},
          "execution_count": 30
        }
      ]
    },
    {
      "cell_type": "code",
      "metadata": {
        "id": "UunBIgzpugzn"
      },
      "source": [
        ""
      ],
      "execution_count": null,
      "outputs": []
    },
    {
      "cell_type": "code",
      "metadata": {
        "id": "Mi2MHrjjtc-m"
      },
      "source": [
        ""
      ],
      "execution_count": null,
      "outputs": []
    }
  ]
}